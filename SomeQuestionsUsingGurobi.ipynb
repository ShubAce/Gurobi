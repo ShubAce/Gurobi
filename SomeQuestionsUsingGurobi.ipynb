{
 "cells": [
  {
   "cell_type": "markdown",
   "id": "00b1a125",
   "metadata": {},
   "source": [
    "### x**2 + 2\\*y**2 + 0.5\\*z\\*\\*2 , minimize\n",
    "\n",
    "### constraints\n",
    "\n",
    "### x**2>=1, y**2>=1, z**2 + y**2 >=3, x is continous, y is integer, z takes from {0,1}\n"
   ]
  },
  {
   "cell_type": "markdown",
   "id": "a365c47b",
   "metadata": {},
   "source": [
    "# importing library\n"
   ]
  },
  {
   "cell_type": "code",
   "execution_count": 4,
   "id": "b795923b",
   "metadata": {},
   "outputs": [],
   "source": [
    "from gurobipy import *"
   ]
  },
  {
   "cell_type": "markdown",
   "id": "d1c7ac1d",
   "metadata": {},
   "source": [
    "# Create model\n"
   ]
  },
  {
   "cell_type": "code",
   "execution_count": 5,
   "id": "ade23d34",
   "metadata": {},
   "outputs": [
    {
     "name": "stdout",
     "output_type": "stream",
     "text": [
      "Restricted license - for non-production use only - expires 2026-11-23\n"
     ]
    }
   ],
   "source": [
    "quadratics_model = Model('quadratic')"
   ]
  },
  {
   "cell_type": "markdown",
   "id": "8acdfc11",
   "metadata": {},
   "source": [
    "## define variables\n"
   ]
  },
  {
   "cell_type": "code",
   "execution_count": 6,
   "id": "7b3aa073",
   "metadata": {},
   "outputs": [],
   "source": [
    "x = quadratics_model.addVar(vtype=GRB.CONTINUOUS,name='x')\n",
    "y = quadratics_model.addVar(vtype=GRB.INTEGER,name='y')\n",
    "z = quadratics_model.addVar(vtype=GRB.BINARY,name='z')"
   ]
  },
  {
   "cell_type": "code",
   "execution_count": 7,
   "id": "7ae6581c",
   "metadata": {},
   "outputs": [],
   "source": [
    "obj_fn = x**2 + 2*y**2 + 0.5*z**2\n",
    "quadratics_model.setObjective(obj_fn,GRB.MINIMIZE)"
   ]
  },
  {
   "cell_type": "markdown",
   "id": "d76a9978",
   "metadata": {},
   "source": [
    "## Add constraints\n"
   ]
  },
  {
   "cell_type": "code",
   "execution_count": 8,
   "id": "4c39b7dc",
   "metadata": {},
   "outputs": [
    {
     "data": {
      "text/plain": [
       "<gurobi.QConstr Not Yet Added>"
      ]
     },
     "execution_count": 8,
     "metadata": {},
     "output_type": "execute_result"
    }
   ],
   "source": [
    "quadratics_model.addConstr(x**2>=1)\n",
    "quadratics_model.addConstr(y**2>=1)\n",
    "quadratics_model.addConstr(z**2 + y**2 >=3)\n"
   ]
  },
  {
   "cell_type": "markdown",
   "id": "b0eaca70",
   "metadata": {},
   "source": [
    "## sOlve the model\n"
   ]
  },
  {
   "cell_type": "code",
   "execution_count": 9,
   "id": "61766e70",
   "metadata": {},
   "outputs": [
    {
     "name": "stdout",
     "output_type": "stream",
     "text": [
      "Gurobi Optimizer version 12.0.2 build v12.0.2rc0 (win64 - Windows 11.0 (26100.2))\n",
      "\n",
      "CPU model: 13th Gen Intel(R) Core(TM) i7-13700HX, instruction set [SSE2|AVX|AVX2]\n",
      "Thread count: 16 physical cores, 24 logical processors, using up to 24 threads\n",
      "\n",
      "Optimize a model with 0 rows, 3 columns and 0 nonzeros\n",
      "Model fingerprint: 0x930c1ab3\n",
      "Model has 3 quadratic objective terms\n",
      "Model has 3 quadratic constraints\n",
      "Variable types: 1 continuous, 2 integer (1 binary)\n",
      "Coefficient statistics:\n",
      "  Matrix range     [0e+00, 0e+00]\n",
      "  QMatrix range    [1e+00, 1e+00]\n",
      "  Objective range  [0e+00, 0e+00]\n",
      "  QObjective range [1e+00, 4e+00]\n",
      "  Bounds range     [1e+00, 1e+00]\n",
      "  RHS range        [0e+00, 0e+00]\n",
      "  QRHS range       [1e+00, 3e+00]\n",
      "Found heuristic solution: objective 12.5000000\n",
      "Presolve removed 0 rows and 3 columns\n",
      "Presolve time: 0.00s\n",
      "Presolve: All rows and columns removed\n",
      "\n",
      "Explored 0 nodes (0 simplex iterations) in 0.02 seconds (0.00 work units)\n",
      "Thread count was 1 (of 24 available processors)\n",
      "\n",
      "Solution count 2: 9 12.5 \n",
      "\n",
      "Optimal solution found (tolerance 1.00e-04)\n",
      "Best objective 9.000000000000e+00, best bound 9.000000000000e+00, gap 0.0000%\n",
      "Optimization is done. Objective functions value: 9.0\n",
      "x: 1\n",
      "y: 2\n",
      "z: 0\n"
     ]
    }
   ],
   "source": [
    "quadratics_model.optimize()\n",
    "print(f\"Optimization is done. Objective functions value: {quadratics_model.ObjVal}\")\n",
    "\n",
    "#get values of decision variables\n",
    "for v in quadratics_model.getVars():\n",
    "    print(\"%s: %g\" % (v.VarName,v.X))\n"
   ]
  },
  {
   "cell_type": "markdown",
   "id": "96f0d54d",
   "metadata": {},
   "source": [
    "## Add extra constraints\n"
   ]
  },
  {
   "cell_type": "code",
   "execution_count": 10,
   "id": "32d79e64",
   "metadata": {},
   "outputs": [
    {
     "name": "stdout",
     "output_type": "stream",
     "text": [
      "Gurobi Optimizer version 12.0.2 build v12.0.2rc0 (win64 - Windows 11.0 (26100.2))\n",
      "\n",
      "CPU model: 13th Gen Intel(R) Core(TM) i7-13700HX, instruction set [SSE2|AVX|AVX2]\n",
      "Thread count: 16 physical cores, 24 logical processors, using up to 24 threads\n",
      "\n",
      "Optimize a model with 0 rows, 3 columns and 0 nonzeros\n",
      "Model fingerprint: 0xbf7a160e\n",
      "Model has 3 quadratic objective terms\n",
      "Model has 4 quadratic constraints\n",
      "Variable types: 1 continuous, 2 integer (1 binary)\n",
      "Coefficient statistics:\n",
      "  Matrix range     [0e+00, 0e+00]\n",
      "  QMatrix range    [1e+00, 1e+00]\n",
      "  Objective range  [0e+00, 0e+00]\n",
      "  QObjective range [1e+00, 4e+00]\n",
      "  Bounds range     [1e+00, 1e+00]\n",
      "  RHS range        [0e+00, 0e+00]\n",
      "  QRHS range       [1e+00, 3e+00]\n",
      "\n",
      "MIP start from previous solve produced solution with objective 12 (0.01s)\n",
      "Loaded MIP start from previous solve with objective 12\n",
      "\n",
      "Presolve added 1 rows and 0 columns\n",
      "Presolve removed 0 rows and 1 columns\n",
      "Presolve time: 0.00s\n",
      "Presolved: 1 rows, 2 columns, 2 nonzeros\n",
      "Presolved model has 2 quadratic objective terms\n",
      "Variable types: 1 continuous, 1 integer (0 binary)\n",
      "\n",
      "Root relaxation: cutoff, 0 iterations, 0.00 seconds (0.00 work units)\n",
      "\n",
      "Explored 1 nodes (0 simplex iterations) in 0.03 seconds (0.00 work units)\n",
      "Thread count was 24 (of 24 available processors)\n",
      "\n",
      "Solution count 1: 12 \n",
      "\n",
      "Optimal solution found (tolerance 1.00e-04)\n",
      "Best objective 1.200000000000e+01, best bound 1.200000000000e+01, gap 0.0000%\n",
      "optimization is done. objective function value: 12.00\n",
      "x: 2\n",
      "y: 2\n",
      "z: 0\n"
     ]
    }
   ],
   "source": [
    "quadratics_model.addConstr(z**2 + y**2 <= x**2)\n",
    "quadratics_model.optimize()\n",
    "print(\"optimization is done. objective function value: %.2f\" % quadratics_model.ObjVal)\n",
    "#get values of decision variables\n",
    "for v in quadratics_model.getVars():\n",
    "    print(\"%s: %g\" % (v.VarName,v.X))\n"
   ]
  },
  {
   "cell_type": "markdown",
   "id": "ce00c833",
   "metadata": {},
   "source": [
    "### Other Model\n",
    "\n",
    "### objective function: 2*x + y + 3*z\n",
    "\n",
    "### constraints: x+y>=1, x+2*y+z<=4, 2*z+y<=5, z>=0, y>=0, x is Binary, y is continous, z is integer\n"
   ]
  },
  {
   "cell_type": "code",
   "execution_count": 11,
   "id": "ef58acf3",
   "metadata": {},
   "outputs": [],
   "source": [
    "mixed_linear = Model(\"milp\")"
   ]
  },
  {
   "cell_type": "code",
   "execution_count": 12,
   "id": "ec9f7dd4",
   "metadata": {},
   "outputs": [],
   "source": [
    "x=mixed_linear.addVar(vtype=GRB.BINARY,name='x')\n",
    "y=mixed_linear.addVar(vtype=GRB.CONTINUOUS,name='y')\n",
    "z=mixed_linear.addVar(vtype=GRB.INTEGER,name='z')"
   ]
  },
  {
   "cell_type": "code",
   "execution_count": 13,
   "id": "d1b5b919",
   "metadata": {},
   "outputs": [],
   "source": [
    "obj_fn = 2*x + y + 3*z\n",
    "mixed_linear.setObjective(obj_fn,GRB.MAXIMIZE)"
   ]
  },
  {
   "cell_type": "code",
   "execution_count": 14,
   "id": "f2b96576",
   "metadata": {},
   "outputs": [
    {
     "data": {
      "text/plain": [
       "<gurobi.Constr *Awaiting Model Update*>"
      ]
     },
     "execution_count": 14,
     "metadata": {},
     "output_type": "execute_result"
    }
   ],
   "source": [
    "mixed_linear.addConstr(x+y>=1)\n",
    "mixed_linear.addConstr(x+2*y+z<=4)\n",
    "mixed_linear.addConstr(2*z+y<=5)\n",
    "mixed_linear.addConstr(z>=0)\n",
    "mixed_linear.addConstr(y>=0)"
   ]
  },
  {
   "cell_type": "code",
   "execution_count": 15,
   "id": "d201bc8e",
   "metadata": {},
   "outputs": [
    {
     "name": "stdout",
     "output_type": "stream",
     "text": [
      "Gurobi Optimizer version 12.0.2 build v12.0.2rc0 (win64 - Windows 11.0 (26100.2))\n",
      "\n",
      "CPU model: 13th Gen Intel(R) Core(TM) i7-13700HX, instruction set [SSE2|AVX|AVX2]\n",
      "Thread count: 16 physical cores, 24 logical processors, using up to 24 threads\n",
      "\n",
      "Optimize a model with 5 rows, 3 columns and 9 nonzeros\n",
      "Model fingerprint: 0xf0182f92\n",
      "Variable types: 1 continuous, 2 integer (1 binary)\n",
      "Coefficient statistics:\n",
      "  Matrix range     [1e+00, 2e+00]\n",
      "  Objective range  [1e+00, 3e+00]\n",
      "  Bounds range     [1e+00, 1e+00]\n",
      "  RHS range        [1e+00, 5e+00]\n",
      "Found heuristic solution: objective 3.5000000\n",
      "Presolve removed 5 rows and 3 columns\n",
      "Presolve time: 0.00s\n",
      "Presolve: All rows and columns removed\n",
      "\n",
      "Explored 0 nodes (0 simplex iterations) in 0.01 seconds (0.00 work units)\n",
      "Thread count was 1 (of 24 available processors)\n",
      "\n",
      "Solution count 2: 8.5 3.5 \n",
      "\n",
      "Optimal solution found (tolerance 1.00e-04)\n",
      "Best objective 8.500000000000e+00, best bound 8.500000000000e+00, gap 0.0000%\n",
      "optimization is done. objective function value: 8.50\n",
      "x: 1\n",
      "y: 0.5\n",
      "z: 2\n"
     ]
    }
   ],
   "source": [
    "mixed_linear.optimize()\n",
    "print(\"optimization is done. objective function value: %.2f\" % mixed_linear.ObjVal)\n",
    "#get values of decision variables\n",
    "for v in mixed_linear.getVars():\n",
    "    print(\"%s: %g\" % (v.VarName,v.X))"
   ]
  },
  {
   "cell_type": "markdown",
   "id": "aa998ced",
   "metadata": {},
   "source": [
    "# Knapsack problem\n"
   ]
  },
  {
   "cell_type": "markdown",
   "id": "d72a843f",
   "metadata": {},
   "source": [
    "### A 15 kg backpack has to be made with max weight\n",
    "\n",
    "### the weights and values are:\n",
    "\n",
    "### weights = [5,4,2,5,4,5,1,3], and their respective price\n",
    "\n",
    "### values = [8,10,5,18,12,15,1,2]\n"
   ]
  },
  {
   "cell_type": "code",
   "execution_count": 16,
   "id": "32de9602",
   "metadata": {},
   "outputs": [],
   "source": [
    "w = [5,4,2,5,4,5,1,3]\n",
    "v = [8,10,5,18,12,15,1,2]\n",
    "N = len(w)\n",
    "C=15"
   ]
  },
  {
   "cell_type": "code",
   "execution_count": 17,
   "id": "5bf6b207",
   "metadata": {},
   "outputs": [],
   "source": [
    "knapsack = Model('knapsack')"
   ]
  },
  {
   "cell_type": "code",
   "execution_count": 18,
   "id": "3d67554f",
   "metadata": {},
   "outputs": [],
   "source": [
    "x = knapsack.addVars(N,vtype=GRB.BINARY, name='x')"
   ]
  },
  {
   "cell_type": "code",
   "execution_count": 19,
   "id": "93451e93",
   "metadata": {},
   "outputs": [],
   "source": [
    "obj_fn = sum(v[i]*x[i] for i in range(N))\n",
    "knapsack.setObjective(obj_fn, GRB.MAXIMIZE)"
   ]
  },
  {
   "cell_type": "markdown",
   "id": "f7a33f72",
   "metadata": {},
   "source": [
    "# Add COnstraints\n"
   ]
  },
  {
   "cell_type": "code",
   "execution_count": 20,
   "id": "68eda081",
   "metadata": {},
   "outputs": [
    {
     "data": {
      "text/plain": [
       "<gurobi.Constr *Awaiting Model Update*>"
      ]
     },
     "execution_count": 20,
     "metadata": {},
     "output_type": "execute_result"
    }
   ],
   "source": [
    "knapsack.addConstr(sum(w[i]*x[i] for i in range(N)) <= C)"
   ]
  },
  {
   "cell_type": "code",
   "execution_count": 21,
   "id": "9281103e",
   "metadata": {},
   "outputs": [
    {
     "name": "stdout",
     "output_type": "stream",
     "text": [
      "Gurobi Optimizer version 12.0.2 build v12.0.2rc0 (win64 - Windows 11.0 (26100.2))\n",
      "\n",
      "CPU model: 13th Gen Intel(R) Core(TM) i7-13700HX, instruction set [SSE2|AVX|AVX2]\n",
      "Thread count: 16 physical cores, 24 logical processors, using up to 24 threads\n",
      "\n",
      "Optimize a model with 1 rows, 8 columns and 8 nonzeros\n",
      "Model fingerprint: 0xb9deee98\n",
      "Variable types: 0 continuous, 8 integer (8 binary)\n",
      "Coefficient statistics:\n",
      "  Matrix range     [1e+00, 5e+00]\n",
      "  Objective range  [1e+00, 2e+01]\n",
      "  Bounds range     [1e+00, 1e+00]\n",
      "  RHS range        [2e+01, 2e+01]\n",
      "Found heuristic solution: objective 35.0000000\n",
      "Presolve removed 1 rows and 8 columns\n",
      "Presolve time: 0.00s\n",
      "Presolve: All rows and columns removed\n",
      "\n",
      "Explored 0 nodes (0 simplex iterations) in 0.01 seconds (0.00 work units)\n",
      "Thread count was 1 (of 24 available processors)\n",
      "\n",
      "Solution count 2: 46 35 \n",
      "\n",
      "Optimal solution found (tolerance 1.00e-04)\n",
      "Best objective 4.600000000000e+01, best bound 4.600000000000e+01, gap 0.0000%\n",
      "Optimize is done, the value is: 46.00\n",
      "x[0]:0\n",
      "x[1]:0\n",
      "x[2]:0\n",
      "x[3]:1\n",
      "x[4]:1\n",
      "x[5]:1\n",
      "x[6]:1\n",
      "x[7]:0\n"
     ]
    }
   ],
   "source": [
    "knapsack.optimize()\n",
    "print(\"Optimize is done, the value is: %.2f\" % knapsack.objVal)\n",
    "for v in knapsack.getVars():\n",
    "    print('%s:%g' % (v.VarName,v.X))"
   ]
  },
  {
   "cell_type": "markdown",
   "id": "d5124b14",
   "metadata": {},
   "source": [
    "## Other method using matrices rather manually tayping all the equations or constraints\n"
   ]
  },
  {
   "cell_type": "markdown",
   "id": "3b06ef53",
   "metadata": {},
   "source": [
    "### Objective function: 5x1 + x2 + x3 + 2x4+ 5x5\n",
    "\n",
    "### constraints: x2-5x3+x4+2x5 >= -2, 5x1-x2+x5 >= 7, x1+x2+6x3+x4 >=4, and x1,x2,x3,x4,x5 are integers\n"
   ]
  },
  {
   "cell_type": "code",
   "execution_count": null,
   "id": "3baccd57",
   "metadata": {},
   "outputs": [],
   "source": [
    "import gurobipy as gp\n",
    "n = 5\n",
    "c = [5,1,1,2,3]\n",
    "rhs = [-2,7,4]\n",
    "index, const = gp.multidict({\n",
    "    0:[[0,1,-5,1,2]],\n",
    "    1:[[5,-1,0,0,1]],\n",
    "    2:[[1,1,6,1,0]]\n",
    "})"
   ]
  },
  {
   "cell_type": "code",
   "execution_count": 23,
   "id": "191f5b45",
   "metadata": {},
   "outputs": [],
   "source": [
    "md = Model('md')"
   ]
  },
  {
   "cell_type": "code",
   "execution_count": 24,
   "id": "99e99c28",
   "metadata": {},
   "outputs": [],
   "source": [
    "x = md.addVars(n, vtype=GRB.INTEGER, name=\"x\")"
   ]
  },
  {
   "cell_type": "code",
   "execution_count": 25,
   "id": "827b3d3e",
   "metadata": {},
   "outputs": [],
   "source": [
    "md.setObjective(x.prod(c), GRB.MINIMIZE)"
   ]
  },
  {
   "cell_type": "code",
   "execution_count": 26,
   "id": "a7815208",
   "metadata": {},
   "outputs": [
    {
     "data": {
      "text/plain": [
       "{0: <gurobi.Constr *Awaiting Model Update*>,\n",
       " 1: <gurobi.Constr *Awaiting Model Update*>,\n",
       " 2: <gurobi.Constr *Awaiting Model Update*>}"
      ]
     },
     "execution_count": 26,
     "metadata": {},
     "output_type": "execute_result"
    }
   ],
   "source": [
    "md.addConstrs((x.prod(const[i]) >= rhs[i] for i in index), 'constraints')"
   ]
  },
  {
   "cell_type": "code",
   "execution_count": 27,
   "id": "46686fff",
   "metadata": {},
   "outputs": [],
   "source": [
    "md.update()\n",
    "md.write(\"mip3.lp\")"
   ]
  },
  {
   "cell_type": "code",
   "execution_count": 28,
   "id": "41e87cd4",
   "metadata": {},
   "outputs": [
    {
     "name": "stdout",
     "output_type": "stream",
     "text": [
      "Gurobi Optimizer version 12.0.2 build v12.0.2rc0 (win64 - Windows 11.0 (26100.2))\n",
      "\n",
      "CPU model: 13th Gen Intel(R) Core(TM) i7-13700HX, instruction set [SSE2|AVX|AVX2]\n",
      "Thread count: 16 physical cores, 24 logical processors, using up to 24 threads\n",
      "\n",
      "Optimize a model with 3 rows, 5 columns and 11 nonzeros\n",
      "Model fingerprint: 0x7ffa4b30\n",
      "Variable types: 0 continuous, 5 integer (0 binary)\n",
      "Coefficient statistics:\n",
      "  Matrix range     [1e+00, 6e+00]\n",
      "  Objective range  [1e+00, 5e+00]\n",
      "  Bounds range     [0e+00, 0e+00]\n",
      "  RHS range        [2e+00, 7e+00]\n",
      "Found heuristic solution: objective 29.0000000\n",
      "Presolve time: 0.00s\n",
      "Presolved: 3 rows, 5 columns, 11 nonzeros\n",
      "Variable types: 0 continuous, 5 integer (1 binary)\n",
      "\n",
      "Root relaxation: objective 9.394737e+00, 3 iterations, 0.00 seconds (0.00 work units)\n",
      "\n",
      "    Nodes    |    Current Node    |     Objective Bounds      |     Work\n",
      " Expl Unexpl |  Obj  Depth IntInf | Incumbent    BestBd   Gap | It/Node Time\n",
      "\n",
      "     0     0    9.39474    0    3   29.00000    9.39474  67.6%     -    0s\n",
      "H    0     0                      16.0000000    9.39474  41.3%     -    0s\n",
      "H    0     0                      12.0000000    9.39474  21.7%     -    0s\n",
      "\n",
      "Explored 1 nodes (3 simplex iterations) in 0.04 seconds (0.00 work units)\n",
      "Thread count was 24 (of 24 available processors)\n",
      "\n",
      "Solution count 3: 12 16 29 \n",
      "\n",
      "Optimal solution found (tolerance 1.00e-04)\n",
      "Best objective 1.200000000000e+01, best bound 1.200000000000e+01, gap 0.0000%\n"
     ]
    }
   ],
   "source": [
    "md.optimize()"
   ]
  },
  {
   "cell_type": "code",
   "execution_count": 31,
   "id": "5c158d0f",
   "metadata": {},
   "outputs": [
    {
     "name": "stdout",
     "output_type": "stream",
     "text": [
      "x[0]: 2\n",
      "x[1]: 2\n",
      "x[2]: 0\n",
      "x[3]: -0\n",
      "x[4]: -0\n",
      "the objective function: 12\n"
     ]
    }
   ],
   "source": [
    "for v in md.getVars():\n",
    "    print(\"%s: %g\" % (v.VarName,v.X))\n",
    "print(\"the objective function: %g\" % md.ObjVal)"
   ]
  },
  {
   "cell_type": "code",
   "execution_count": null,
   "id": "2feee1b7",
   "metadata": {},
   "outputs": [],
   "source": []
  }
 ],
 "metadata": {
  "kernelspec": {
   "display_name": "py-TF",
   "language": "python",
   "name": "python3"
  },
  "language_info": {
   "codemirror_mode": {
    "name": "ipython",
    "version": 3
   },
   "file_extension": ".py",
   "mimetype": "text/x-python",
   "name": "python",
   "nbconvert_exporter": "python",
   "pygments_lexer": "ipython3",
   "version": "3.12.8"
  }
 },
 "nbformat": 4,
 "nbformat_minor": 5
}
